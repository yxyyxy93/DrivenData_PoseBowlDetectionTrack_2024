{
 "cells": [
  {
   "cell_type": "markdown",
   "id": "fc10e521-64e3-4d87-ba90-438179cbe831",
   "metadata": {},
   "source": [
    "!pip install jupyterlab pandas pyarrow opencv-python matplotlib ultralytics"
   ]
  },
  {
   "cell_type": "markdown",
   "id": "62b763cc-ead3-432a-a68a-641c909789ee",
   "metadata": {},
   "source": [
    "![spacecraft with bounding box](https://drivendata-public-assets.s3.amazonaws.com/nasa-spacecraft-leading-example.jpg)\n",
    "\n",
    "Welcome to the benchmark notebook for the **Pose Bowl: Object Detection** challenge!\n",
    "\n",
    "If you are just getting started, first checkout the competition [homepage](https://www.drivendata.org/competitions/260/spacecraft-detection/) and [problem description](https://www.drivendata.org/competitions/260/spacecraft-detection/page/833/)."
   ]
  },
  {
   "cell_type": "markdown",
   "id": "cf773b15-b7af-4a44-a129-cc6be292be41",
   "metadata": {},
   "source": [
    "## Pose Bowl: Object Detection\n",
    "\n",
    "In this challenge, you will help to develop new methods for conducting spacecraft inspections by identifying the position and orientation of a target spacecraft in an image.\n",
    "\n",
    "The goal of this $12,000 challenge is to help NASA address key operational hurdles in spacecraft inspection, including the ability to detect a variety of different types of target spacecraft, as well as being able to run this code efficiently on relatively low-cost hardware. For the latter reason, this challenge is a **code execution challenge**, and your submission will be run on our code execution platform in an environment that simulates a small, [off-the-shelf computer board](https://www.aaeon.com/en/p/up-board-computer-board-for-professional-makers) used on [R5 NASA spacecraft](https://ntrs.nasa.gov/api/citations/20230011368/downloads/R5_Fact_Sheet_2023-07.pdf).\n",
    "\n",
    "If you're not familiar with code execution challenges, don't worry! This benchmark notebook/blog post will help you get comfortable with the setup and on your way to producing your own challenge submissions.\n",
    "\n",
    "We'll cover two main areas in this post:\n",
    "\n",
    "- [**Section 1. Getting started:**](#getting-started) An introduction to the challenge data, including image examples and some explanation about the type of variation to expect across the dataset.\n",
    "\n",
    "- [**Section 2. Demo submission:**](#demo-submission) A demonstration of how to run the benchmark example and produce a valid code submission."
   ]
  },
  {
   "cell_type": "markdown",
   "id": "3748152c-8937-430c-a50a-1a6d3119ef4e",
   "metadata": {},
   "source": [
    "!pip install jupyterlab pandas pyarrow opencv-python matplotlib ultralytics"
   ]
  },
  {
   "cell_type": "markdown",
   "id": "5c626ad9-d5d7-4e72-a36d-15d5d5fdcbc1",
   "metadata": {},
   "source": [
    "<a id=\"getting-started\"></a>\n",
    "\n",
    "## Section 1: Getting started"
   ]
  },
  {
   "cell_type": "markdown",
   "id": "0d732a37-a0ae-43cb-9ac2-f3afcc632c53",
   "metadata": {
    "tags": []
   },
   "source": [
    "### Get this notebook\n",
    "\n",
    "First, clone the runtime repository with:\n",
    "```\n",
    "git clone https://github.com/drivendataorg/spacecraft-pose-object-detection-runtime.git\n",
    "```\n",
    "\n",
    "The repository includes a copy of this notebook in `/notebooks/data-exploration-and-benchmark.ipynb`. We'd encourage you to run this notebook yourself as part of this exercise.\n",
    "\n",
    "You will also need to set up your environment. For the purposes of this notebook, you will just need to the following libraries, which you can install with the following `pip` command.\n",
    "```\n",
    "pip install jupyterlab pandas pyarrow opencv-python matplotlib ultralytics\n",
    "```\n",
    "\n",
    "### Download some data\n",
    "\n",
    "Let's first download some challenge imagery from the [Data Download](https://www.drivendata.org/competitions/260/spacecraft-detection/data/) page. The imagery dataset comes in the form of `.tar` files, each of which is about 2.5 GB. For this benchmark example, we'll just download the `0.tar` file.\n",
    "\n",
    "Downloading imagery may take some time, so feel free to do something else for a little while. (The [code submission format page](https://www.drivendata.org/competitions/260/spacecraft-detection/page/835/) and this runtime repository's [README](https://github.com/drivendataorg/spacecraft-pose-object-detection-runtime) are relevant background reading for what we're about to do next.)\n",
    "\n",
    "Once the tar file has been downloaded, you can extract it to the `data_dev` directory (the command below should work on a Unix-based system). We suggest saving the images to the `data_dev` directory (or something similarly named) rather than the `data` directory because the `data` directory plays a special role in simulating the test data that is available when your submission runs in the code execution environment.\n",
    "```\n",
    "tar -xzvf 0.tar -C data_dev/\n",
    "```\n",
    "You'll also want to download the `submission_format.csv`, `train_labels.csv` and `train_metadata.csv` from the [Data Download](https://www.drivendata.org/competitions/260/spacecraft-detection/data/) page and save these in the same `data_dev` directory.\n",
    "\n",
    "Once everything is downloaded, your `data_dev` directory should look like this.\n",
    "```\n",
    "spacecraft-pose-object-detection-runtime/\n",
    "└── data_dev\n",
    "    ├── images\n",
    "    │   ├── 0001954c9f4a58f7ac05358b3cda8d20.png\n",
    "    │   ├── 00054819240f9d46378288b215dbcd3a.png\n",
    "    │   ├── 000dbf763348037b46558bbcb6a032ac.png\n",
    "    │   ...\n",
    "    │\n",
    "    ├── submission_format.csv\n",
    "    ├── train_labels.csv\n",
    "    └── train_metadata.csv\n",
    "```"
   ]
  },
  {
   "cell_type": "code",
   "execution_count": 1,
   "id": "c285efb8-c0f4-4577-a327-54af97fefb23",
   "metadata": {},
   "outputs": [
    {
     "name": "stdout",
     "output_type": "stream",
     "text": [
      "The current folder name is: notebooks\n"
     ]
    }
   ],
   "source": [
    "import os\n",
    "import tarfile\n",
    "\n",
    "# Get the current working directory's full path\n",
    "current_working_directory = os.getcwd()\n",
    "# Extract the folder name from the full path\n",
    "current_folder_name = os.path.basename(current_working_directory)\n",
    "# Print the current folder name\n",
    "print(\"The current folder name is:\", current_folder_name)\n",
    "\n",
    "# Define the source directory containing the tar files (without a .tar extension) and the target directory for extracted files\n",
    "source_dir = 'Dataset_spacecraft_pose_object_detection'\n",
    "target_dir = 'data_dev'\n",
    "\n",
    "# Create the target directory if it doesn't exist\n",
    "os.makedirs(target_dir, exist_ok=True)\n",
    "\n",
    "# Walk through the source directory\n",
    "for root, dirs, files in os.walk(source_dir):\n",
    "    for file in files:\n",
    "        print(file)\n",
    "        # Construct the full path to the file\n",
    "        file_path = os.path.join(root, file)\n",
    "        \n",
    "        try:\n",
    "            # Attempt to open the file as a tar archive\n",
    "            with tarfile.open(file_path) as tar:\n",
    "                print(f'Extracting {file_path} to {target_dir}')\n",
    "                # Extract its contents into the target directory\n",
    "                tar.extractall(path=target_dir)\n",
    "        except tarfile.TarError:\n",
    "            # If an error occurs, likely because the file is not a tar archive, ignore and move on\n",
    "            print(f'Failed to extract {file_path} - not a tar archive')\n"
   ]
  },
  {
   "cell_type": "markdown",
   "id": "f50283cd-09fe-496f-8f0e-03bdea2a0564",
   "metadata": {},
   "source": [
    "### Explore the data\n",
    "\n",
    "Now it's time to get acquainted with the challenge data. Below we define locations for some of the important files."
   ]
  },
  {
   "cell_type": "code",
   "execution_count": 2,
   "id": "d7447df5",
   "metadata": {
    "ExecuteTime": {
     "end_time": "2024-02-20T00:35:44.466252670Z",
     "start_time": "2024-02-20T00:35:44.092536437Z"
    },
    "collapsed": false,
    "jupyter": {
     "outputs_hidden": false
    }
   },
   "outputs": [],
   "source": [
    "from pathlib import Path\n",
    "import numpy as np\n",
    "import pandas as pd\n",
    "\n",
    "PROJ_DIRECTORY = Path.cwd().parent\n",
    "DATA_DIRECTORY = PROJ_DIRECTORY / \"data\"\n",
    "DEV_DIRECTORY = PROJ_DIRECTORY / \"data_dev\"\n",
    "IMAGES_DIRECTORY = DEV_DIRECTORY / \"images\""
   ]
  },
  {
   "cell_type": "markdown",
   "id": "357c954c",
   "metadata": {
    "collapsed": false,
    "jupyter": {
     "outputs_hidden": false
    }
   },
   "source": [
    "Let's take a look at two of the metadata files."
   ]
  },
  {
   "cell_type": "code",
   "execution_count": 3,
   "id": "0588c0e8",
   "metadata": {
    "ExecuteTime": {
     "end_time": "2024-02-20T00:35:44.514371209Z",
     "start_time": "2024-02-20T00:35:44.470232068Z"
    },
    "collapsed": false,
    "jupyter": {
     "outputs_hidden": false
    }
   },
   "outputs": [],
   "source": [
    "train_meta = pd.read_csv(DEV_DIRECTORY / \"train_metadata.csv\", index_col=\"image_id\")\n",
    "train_labels = pd.read_csv(DEV_DIRECTORY / \"train_labels.csv\", index_col=\"image_id\")"
   ]
  },
  {
   "cell_type": "markdown",
   "id": "16724d83",
   "metadata": {
    "collapsed": false,
    "jupyter": {
     "outputs_hidden": false
    }
   },
   "source": [
    "The `train_metadata.csv` contains information about the type of spacecraft and background used to generate the image. You should consider ways to use this information effectively in stratifying your train and test splits. The test data that you will be evaluated on includes spacecraft types that are not included in the training set, so you will want to consider strategies for ensuring your model generalizes well. You may also want to consider ways of generating additional training data, e.g. to generate a more diverse variety of background imagery.\n",
    "\n",
    "The `train_metadata.csv` contains information about all images in the training set. But since we haven't downloaded all the images yet, let's filter the dataset down to just the images we've saved locally."
   ]
  },
  {
   "cell_type": "code",
   "execution_count": 4,
   "id": "edcd7bb0",
   "metadata": {
    "ExecuteTime": {
     "end_time": "2024-02-20T00:35:44.707456651Z",
     "start_time": "2024-02-20T00:35:44.519221434Z"
    },
    "collapsed": false,
    "jupyter": {
     "outputs_hidden": false
    }
   },
   "outputs": [
    {
     "name": "stdout",
     "output_type": "stream",
     "text": [
      "Size before filtering: (25801, 2)\n",
      "Size after filtering: (25801, 3)\n"
     ]
    },
    {
     "data": {
      "text/html": [
       "<div>\n",
       "<style scoped>\n",
       "    .dataframe tbody tr th:only-of-type {\n",
       "        vertical-align: middle;\n",
       "    }\n",
       "\n",
       "    .dataframe tbody tr th {\n",
       "        vertical-align: top;\n",
       "    }\n",
       "\n",
       "    .dataframe thead th {\n",
       "        text-align: right;\n",
       "    }\n",
       "</style>\n",
       "<table border=\"1\" class=\"dataframe\">\n",
       "  <thead>\n",
       "    <tr style=\"text-align: right;\">\n",
       "      <th></th>\n",
       "      <th>spacecraft_id</th>\n",
       "      <th>background_id</th>\n",
       "      <th>exists</th>\n",
       "    </tr>\n",
       "    <tr>\n",
       "      <th>image_id</th>\n",
       "      <th></th>\n",
       "      <th></th>\n",
       "      <th></th>\n",
       "    </tr>\n",
       "  </thead>\n",
       "  <tbody>\n",
       "    <tr>\n",
       "      <th>0001954c9f4a58f7ac05358b3cda8d20</th>\n",
       "      <td>24</td>\n",
       "      <td>247</td>\n",
       "      <td>True</td>\n",
       "    </tr>\n",
       "    <tr>\n",
       "      <th>00054819240f9d46378288b215dbcd3a</th>\n",
       "      <td>14</td>\n",
       "      <td>10</td>\n",
       "      <td>True</td>\n",
       "    </tr>\n",
       "    <tr>\n",
       "      <th>000dbf763348037b46558bbcb6a032ac</th>\n",
       "      <td>19</td>\n",
       "      <td>17</td>\n",
       "      <td>True</td>\n",
       "    </tr>\n",
       "    <tr>\n",
       "      <th>000e79208bebd8e84ce6c22fd8612a0d</th>\n",
       "      <td>14</td>\n",
       "      <td>15</td>\n",
       "      <td>True</td>\n",
       "    </tr>\n",
       "    <tr>\n",
       "      <th>000f13aff94499d03e3997afc55b0aa0</th>\n",
       "      <td>28</td>\n",
       "      <td>15</td>\n",
       "      <td>True</td>\n",
       "    </tr>\n",
       "  </tbody>\n",
       "</table>\n",
       "</div>"
      ],
      "text/plain": [
       "                                  spacecraft_id  background_id  exists\n",
       "image_id                                                              \n",
       "0001954c9f4a58f7ac05358b3cda8d20             24            247    True\n",
       "00054819240f9d46378288b215dbcd3a             14             10    True\n",
       "000dbf763348037b46558bbcb6a032ac             19             17    True\n",
       "000e79208bebd8e84ce6c22fd8612a0d             14             15    True\n",
       "000f13aff94499d03e3997afc55b0aa0             28             15    True"
      ]
     },
     "execution_count": 4,
     "metadata": {},
     "output_type": "execute_result"
    }
   ],
   "source": [
    "print(\"Size before filtering:\", train_meta.shape)\n",
    "# we didn't download the full training set, so add a column indicating which images are saved locally\n",
    "train_meta[\"exists\"] = train_meta.index.to_series().map(lambda x: (IMAGES_DIRECTORY / f\"{x}.png\").exists())\n",
    "# filter our metadata down to only the images we have locally\n",
    "train_meta = train_meta[train_meta.exists]\n",
    "print(\"Size after filtering:\", train_meta.shape)\n",
    "\n",
    "train_meta.head()"
   ]
  },
  {
   "cell_type": "markdown",
   "id": "bde759c4",
   "metadata": {
    "collapsed": false,
    "jupyter": {
     "outputs_hidden": false
    }
   },
   "source": [
    "The `train_labels.csv` contains the bounding box information for the target spacecraft in each image."
   ]
  },
  {
   "cell_type": "markdown",
   "id": "4d079650-a39a-4ba7-af2b-2bb4f7b4d3aa",
   "metadata": {
    "ExecuteTime": {
     "end_time": "2024-02-20T00:35:44.878218361Z",
     "start_time": "2024-02-20T00:35:44.708801032Z"
    },
    "collapsed": false,
    "jupyter": {
     "outputs_hidden": false
    }
   },
   "source": [
    "train_labels.head()"
   ]
  },
  {
   "cell_type": "markdown",
   "id": "2676ddb2",
   "metadata": {
    "collapsed": false,
    "jupyter": {
     "outputs_hidden": false
    }
   },
   "source": [
    "Let's look at a few example images to get a feel for what's in this dataset."
   ]
  },
  {
   "cell_type": "code",
   "execution_count": 5,
   "id": "eb495503",
   "metadata": {
    "ExecuteTime": {
     "end_time": "2024-02-20T00:35:45.091537356Z",
     "start_time": "2024-02-20T00:35:44.752758982Z"
    },
    "collapsed": false,
    "jupyter": {
     "outputs_hidden": false
    }
   },
   "outputs": [],
   "source": [
    "import cv2\n",
    "import matplotlib.pyplot as plt\n",
    "from matplotlib.patches import Rectangle\n",
    "\n",
    "def get_bbox(image_id, labels):\n",
    "    \"\"\"Get bbox coordinates as list from dataframe for given image id.\"\"\"\n",
    "    return labels.loc[image_id].loc[[\"xmin\", \"ymin\", \"xmax\", \"ymax\"]].values.tolist()\n",
    "\n",
    "def display_image(image_id, images_dir=IMAGES_DIRECTORY, show_bbox=False, labels=train_labels):\n",
    "    \"\"\"Display image given image ID. Annotate with bounding box if `show_bbox` is True.\"\"\"\n",
    "    img = cv2.imread(str(images_dir / f\"{image_id}.png\"))\n",
    "    fig, ax = plt.subplots()\n",
    "    # cv2 reads images as BGR order; we should flip them to RGB for matplotlib\n",
    "    # ref: https://stackoverflow.com/questions/54959387/rgb-image-display-in-matplotlib-plt-imshow-returns-a-blue-image\n",
    "    ax.imshow(np.flip(img, axis=-1))\n",
    "\n",
    "    if show_bbox:\n",
    "        xmin, ymin, xmax, ymax = get_bbox(image_id, labels)\n",
    "        patch = Rectangle((xmin, ymin), xmax - xmin, ymax - ymin, fill=False, edgecolor='white', linewidth=1)\n",
    "        ax.add_patch(patch)"
   ]
  },
  {
   "cell_type": "markdown",
   "id": "d4391406",
   "metadata": {
    "collapsed": false,
    "jupyter": {
     "outputs_hidden": false
    }
   },
   "source": [
    "Some images are relatively straightforward with an easily identifiable spacecraft. Below is one example. Note that the spacecraft is not necessarily fully in view. Also note that the background in this case consists entirely of our planet, with no view of outer space, while in other images it may be entirely space, or more commonly a mix of planet and space."
   ]
  },
  {
   "cell_type": "markdown",
   "id": "83d90c13-e8f2-4d82-b2d0-1d0925996aa8",
   "metadata": {
    "ExecuteTime": {
     "end_time": "2024-02-20T00:35:45.535897087Z",
     "start_time": "2024-02-20T00:35:45.081929784Z"
    },
    "collapsed": false,
    "jupyter": {
     "outputs_hidden": false
    }
   },
   "source": [
    "display_image(\"07dd7b5a0b7b224abc0a7fea8e78de76\", show_bbox=True)"
   ]
  },
  {
   "cell_type": "markdown",
   "id": "44e7e547",
   "metadata": {
    "collapsed": false,
    "jupyter": {
     "outputs_hidden": false
    }
   },
   "source": [
    "There are many examples where the spacecraft will be more difficult to detect.\n",
    "\n",
    "One challenging type of image involves target spacecraft that appear very small, due to their distance from the chaser spacecraft. Here is one example of that situation."
   ]
  },
  {
   "cell_type": "markdown",
   "id": "41431008-ad5c-4a4d-8714-c8b44c07f662",
   "metadata": {
    "ExecuteTime": {
     "end_time": "2024-02-20T00:35:45.878308421Z",
     "start_time": "2024-02-20T00:35:45.501199179Z"
    },
    "collapsed": false,
    "jupyter": {
     "outputs_hidden": false
    }
   },
   "source": [
    "display_image(\"0d4b4eda4bf7c0251399047d71cc4188\", show_bbox=True)"
   ]
  },
  {
   "cell_type": "markdown",
   "id": "36ee37e1",
   "metadata": {
    "collapsed": false,
    "jupyter": {
     "outputs_hidden": false
    }
   },
   "source": [
    "Lens flare and other visual artifacts from the refraction of light on the camera lens may also complicate your detection algorithm, as in the example below."
   ]
  },
  {
   "cell_type": "markdown",
   "id": "ea3a5e60-bcac-4d74-8ea5-7ebf44329b3f",
   "metadata": {
    "ExecuteTime": {
     "end_time": "2024-02-20T00:35:46.293437604Z",
     "start_time": "2024-02-20T00:35:45.874578635Z"
    },
    "collapsed": false,
    "jupyter": {
     "outputs_hidden": false
    }
   },
   "source": [
    "display_image(\"01fcd95cdcf8bb84ec4dfa7b87bf2abc\", show_bbox=True)"
   ]
  },
  {
   "cell_type": "markdown",
   "id": "de34d0bb",
   "metadata": {
    "collapsed": false,
    "jupyter": {
     "outputs_hidden": false
    }
   },
   "source": [
    "Some target spacecraft may have long, thin appendages that are difficult or even impossible to see. Remember that your bounding box needs to encompass these appendages."
   ]
  },
  {
   "cell_type": "markdown",
   "id": "f42bbd86-79c2-4dc6-8a55-c6f4b7942a6f",
   "metadata": {
    "ExecuteTime": {
     "end_time": "2024-02-20T00:35:46.649809833Z",
     "start_time": "2024-02-20T00:35:46.293057297Z"
    },
    "collapsed": false,
    "jupyter": {
     "outputs_hidden": false
    }
   },
   "source": [
    "display_image(\"0263257179fcf14793f40430713ece44\", show_bbox=True)"
   ]
  },
  {
   "cell_type": "markdown",
   "id": "21f25267",
   "metadata": {
    "collapsed": false,
    "jupyter": {
     "outputs_hidden": false
    }
   },
   "source": [
    "Finally, there will be situations where parts of the spacecraft are obscured by shadow. This can make it particularly difficult to detect the edges of thin appendages like the ones we saw above."
   ]
  },
  {
   "cell_type": "markdown",
   "id": "6ca5dbf2-55b9-4c59-8ee4-35f670ef2ade",
   "metadata": {
    "ExecuteTime": {
     "end_time": "2024-02-20T00:35:46.966532246Z",
     "start_time": "2024-02-20T00:35:46.647107202Z"
    },
    "collapsed": false,
    "jupyter": {
     "outputs_hidden": false
    }
   },
   "source": [
    "display_image(\"0eee2fcf59ec1e7641db1f8284c1d935\", show_bbox=True)"
   ]
  },
  {
   "cell_type": "markdown",
   "id": "f05b8316",
   "metadata": {
    "collapsed": false,
    "jupyter": {
     "outputs_hidden": false
    }
   },
   "source": [
    "### Explore for yourself\n",
    "\n",
    "The code below will pull and display a random image. Feel free to run this as many times as you like to develop your intuition for what types of images are in this dataset."
   ]
  },
  {
   "cell_type": "markdown",
   "id": "3833b24c-32e0-4dbc-89b6-9951c08254c5",
   "metadata": {
    "ExecuteTime": {
     "end_time": "2024-02-20T00:35:47.334682872Z",
     "start_time": "2024-02-20T00:35:46.966532068Z"
    },
    "collapsed": false,
    "jupyter": {
     "outputs_hidden": false
    }
   },
   "source": [
    "image_id = train_meta.sample(1).index[0]\n",
    "print(image_id)\n",
    "\n",
    "ax = display_image(image_id, show_bbox=True)"
   ]
  },
  {
   "cell_type": "markdown",
   "id": "dc8db9ae",
   "metadata": {
    "collapsed": false,
    "jupyter": {
     "outputs_hidden": false
    }
   },
   "source": [
    "<a id=\"demo-submission\"></a>\n",
    "\n",
    "## Section 2: Demo submission\n",
    "Now that we've had a chance to get a feel for the data, it's time to walk through the steps for creating a competition submission.\n",
    "\n",
    "This is a **code submission competition**, so our focus for now will be on creating that submission in the correct format, and less so on the accuracy of the predictions. To get you started, we'll be using a YOLO model to try to identify the target spacecraft in 100 local test images.\n",
    "\n",
    "If you haven't already read through the following resources, now would be a great time to do that:\n",
    "* [Code Submission Format page](https://www.drivendata.org/competitions/260/spacecraft-detection/page/835/): An introduction to the code submission setup and how to make a valid submission.\n",
    "* [Runtime Repository README](https://github.com/drivendataorg/spacecraft-pose-object-detection-runtime): Details on the competition runtime and how to use this repository effectively."
   ]
  },
  {
   "cell_type": "markdown",
   "id": "82c85841",
   "metadata": {
    "collapsed": false,
    "jupyter": {
     "outputs_hidden": false
    }
   },
   "source": [
    "### Using the `/data` directory\n",
    "\n",
    "The `/data` directory in this runtime repository plays two important roles:\n",
    "\n",
    "* When you are testing your solution _locally_, the contents of `/data` will be mounted on the Docker container that simulates our code execution platform (further below, we'll walk through the specifics of how to do these test runs)\n",
    "* When you make a submission on the DrivenData _platform_, the contents of `/data` that get mounted to the Docker container will be the unseen test data that ultimately determines your rank on the leaderboard.\n",
    "\n",
    "To develop your submission locally, you should add a subset of the challenge data to `/data` and treat this as your local test set. We'll demonstrate one way to do that next..."
   ]
  },
  {
   "cell_type": "markdown",
   "id": "1ea10dd1",
   "metadata": {
    "collapsed": false,
    "jupyter": {
     "outputs_hidden": false
    }
   },
   "source": [
    "First, let's select a random subset of 100 images in `/data_dev` to treat as our local test set."
   ]
  },
  {
   "cell_type": "code",
   "execution_count": 6,
   "id": "2354b9d3",
   "metadata": {
    "ExecuteTime": {
     "end_time": "2024-02-20T00:35:47.335027263Z",
     "start_time": "2024-02-20T00:35:47.334507918Z"
    },
    "collapsed": false,
    "jupyter": {
     "outputs_hidden": false
    }
   },
   "outputs": [
    {
     "data": {
      "text/plain": [
       "['92cd5a585405bfa091711ab322fe723d',\n",
       " 'df4b4aa8b3d5b343c1dc650efea4a981',\n",
       " 'eee050ea25a651040771142885dcb8f1',\n",
       " 'df98ef992be54779327e28d43a3ace69',\n",
       " '1371bb5668d2843f5aa29b230fc6cf9e']"
      ]
     },
     "execution_count": 6,
     "metadata": {},
     "output_type": "execute_result"
    }
   ],
   "source": [
    "test_images = train_meta.sample(100, random_state=1).index.tolist()\n",
    "test_images[:5]"
   ]
  },
  {
   "cell_type": "markdown",
   "id": "0fe1cc7c",
   "metadata": {
    "collapsed": false,
    "jupyter": {
     "outputs_hidden": false
    }
   },
   "source": [
    "Next, we'll move these files into the `/data` directory."
   ]
  },
  {
   "cell_type": "code",
   "execution_count": 7,
   "id": "04b52e5f",
   "metadata": {
    "ExecuteTime": {
     "end_time": "2024-02-20T00:35:47.488039969Z",
     "start_time": "2024-02-20T00:35:47.334815488Z"
    },
    "collapsed": false,
    "jupyter": {
     "outputs_hidden": false
    }
   },
   "outputs": [],
   "source": [
    "import shutil\n",
    "\n",
    "dest_dir = DATA_DIRECTORY / \"images\"\n",
    "if not dest_dir.exists():\n",
    "    dest_dir.mkdir(parents=True, exist_ok=True)\n",
    "\n",
    "for img in test_images:\n",
    "    shutil.copy2(IMAGES_DIRECTORY / f\"{img}.png\", dest_dir / f\"{img}.png\")"
   ]
  },
  {
   "cell_type": "markdown",
   "id": "4597282b-f796-4797-b391-8c0310b00beb",
   "metadata": {
    "collapsed": false,
    "jupyter": {
     "outputs_hidden": false
    }
   },
   "source": [
    "## Next we'll add a \"submission format\" CSV file to `/data`.\n",
    "\n",
    "> Note: A submission format file in this case is simply a CSV file that has the correct column and row indices required for a valid submission. Using this type of standard file is a useful way to ensure that all participants understand how their submission needs to be formatted in order to be accepted, and we tend to use these in most of our challenges.\n",
    "\n",
    "A submission format file for the full training set should already be present in `/data_dev`. We'll make a copy of this that only includes rows pertaining to the images in our local test set, and save it in `/data`."
   ]
  },
  {
   "cell_type": "code",
   "execution_count": 8,
   "id": "b4fb9fec",
   "metadata": {
    "ExecuteTime": {
     "end_time": "2024-02-20T00:35:47.525791962Z",
     "start_time": "2024-02-20T00:35:47.477448823Z"
    },
    "collapsed": false,
    "jupyter": {
     "outputs_hidden": false
    }
   },
   "outputs": [],
   "source": [
    "submission_format = pd.read_csv(DEV_DIRECTORY / \"submission_format.csv\", index_col=\"image_id\")\n",
    "submission_format_val = submission_format.loc[test_images]\n",
    "submission_format_val.to_csv(DATA_DIRECTORY / \"submission_format.csv\")\n"
   ]
  },
  {
   "cell_type": "markdown",
   "id": "24faf50a21241f06",
   "metadata": {
    "collapsed": false,
    "jupyter": {
     "outputs_hidden": false
    }
   },
   "source": [
    "Let's also create a version of the labels file that only includes rows pertaining to our local test set. We can use this later for local scoring (see below)."
   ]
  },
  {
   "cell_type": "code",
   "execution_count": 9,
   "id": "b2cc0ca3ba63cd0b",
   "metadata": {
    "ExecuteTime": {
     "end_time": "2024-02-20T00:35:47.565704098Z",
     "start_time": "2024-02-20T00:35:47.520737678Z"
    },
    "collapsed": false,
    "jupyter": {
     "outputs_hidden": false
    }
   },
   "outputs": [],
   "source": [
    "train_labels = pd.read_csv(DEV_DIRECTORY / \"train_labels.csv\", index_col=\"image_id\")\n",
    "test_labels = train_labels.loc[test_images]\n",
    "test_labels.to_csv(DATA_DIRECTORY / \"test_labels.csv\")\n"
   ]
  },
  {
   "cell_type": "markdown",
   "id": "6e67a740-bd5e-4343-b196-bd3b7dc72a2f",
   "metadata": {},
   "source": [
    "### Download a pretrained model\n",
    "\n",
    "For this benchmark example, we will rely on YOLO, a commonly used algorithm for object detection. This will suit our purposes for demonstrating a very basic baseline approach, but you should explore more sophisticated methods yourself.\n",
    "\n",
    "To download the latest v8 YOLO model, we'll use the `ultralytics` library. The code below will download the model and move it into the `example_benchmark` directory, where we're assembling the components of our submission."
   ]
  },
  {
   "cell_type": "raw",
   "id": "0fa301c1-9b5d-4d67-854e-7613de244077",
   "metadata": {
    "ExecuteTime": {
     "end_time": "2024-02-20T00:35:50.424208681Z",
     "start_time": "2024-02-20T00:35:47.564680047Z"
    },
    "collapsed": false,
    "jupyter": {
     "outputs_hidden": false
    }
   },
   "source": [
    "from ultralytics import YOLO\n",
    "model = YOLO(\"yolov8n.pt\")\n",
    "\n",
    "shutil.move('yolov8n.pt', PROJ_DIRECTORY / \"example_benchmark\" / \"yolov8n.pt\")"
   ]
  },
  {
   "cell_type": "markdown",
   "id": "8695a5ce",
   "metadata": {
    "collapsed": false,
    "jupyter": {
     "outputs_hidden": false
    }
   },
   "source": [
    "### Review the benchmark submission scripts\n",
    "\n",
    "Now let's take a look at the 2 files in `/example_benchmark`. This is the directory we are going to convert into a `submission.zip` file, which you can submit for the challenge.\n",
    "* The `main.sh` shell script is a _required_ file for any submission to this challenge. Our code execution platform will run this script, and you can have it call other scripts and resources as needed for your submission.\n",
    "* The `main.py` Python script is called by `main.sh` in this benchmark example, and this is where the work of generating predictions actually happens. There is no requirement that you also use Python here, but that's the approach we've taken since it is such a common one. The `main.py` script will iterate through all the images in the `submission_format.csv` and generate predictions using YOLO. If YOLO doesn't return a prediction, we simply generate a bounding box for the center of the image.\n",
    "\n",
    "The `example_benchmark` directory should now contain the following files.  Note that we do need to include the `yolov8n.pt` file because the submission will have no internet access when running on our platform.\n",
    "```\n",
    "spacecraft-pose-object-detection-runtime/\n",
    "└── example_benchmark/\n",
    "    ├── main.py\n",
    "    ├── main.sh\n",
    "    └── yolov8n.pt\n",
    "```"
   ]
  },
  {
   "cell_type": "markdown",
   "id": "59e52b73-76f9-4158-889d-5bf5a00304de",
   "metadata": {},
   "source": [
    "### Three commands to prepare your submission\n",
    "To run and test the benchmark example, you just need to execute the following 3 commands:\n",
    "\n",
    "1. [`make pull`](#make-pull)\n",
    "2. [`make pack-benchmark`](#make-pack-benchmark)\n",
    "3. [`make test-submission`](#make-test-submission)\n",
    "\n",
    "These are defined in the project `Makefile` [here](https://github.com/drivendataorg/spacecraft-pose-object-detection-runtime/blob/main/Makefile). We'll walk through what each one does now."
   ]
  },
  {
   "cell_type": "markdown",
   "id": "8a7777c9-1f41-42b0-a56c-b8e5eb91424c",
   "metadata": {},
   "source": [
    "<a id=\"make-pull\"></a>\n",
    "\n",
    "#### **`make pull`**\n",
    "\n",
    "To ensure that all participants are using the same runtime environment, we have a publicly accessible docker image hosted on [Azure Container Registry](https://azure.microsoft.com/en-us/services/container-registry/).\n",
    "\n",
    "The `make pull` command pulls the official version of the docker image and stores it locally. Having a local version of the competition image allows you to test your submission using the same image that is used during code execution.\n",
    "\n",
    "> **Note:** This command can take a little while to run the first time you pull the image. But after that it will be relatively quick since you'll have all the layers cached locally. You don't need to pull the image again each time you test your submission, unless the image has changed."
   ]
  },
  {
   "cell_type": "code",
   "execution_count": 15,
   "id": "91b8f8ef-2d65-45e3-b65c-ec37b5255c85",
   "metadata": {},
   "outputs": [
    {
     "name": "stdout",
     "output_type": "stream",
     "text": [
      "docker pull spacecraftpose.azurecr.io/spacecraft-pose-object-detection:latest\n",
      "latest: Pulling from spacecraft-pose-object-detection\n",
      "Digest: sha256:448e998c69a5b52207ca73f3616d4418928905dc4e75de1623cb8ea91ee998b5\n",
      "Status: Image is up to date for spacecraftpose.azurecr.io/spacecraft-pose-object-detection:latest\n",
      "spacecraftpose.azurecr.io/spacecraft-pose-object-detection:latest\n"
     ]
    }
   ],
   "source": [
    "!cd {PROJ_DIRECTORY} && make pull"
   ]
  },
  {
   "cell_type": "markdown",
   "id": "7d4ba69f-5c6d-4adb-80ee-0987acb4fd6a",
   "metadata": {},
   "source": [
    "You should now have a local copy of the docker image, which you can verify by running:"
   ]
  },
  {
   "cell_type": "code",
   "execution_count": 16,
   "id": "42e4ed6a-3867-43a1-ade4-57c83d84a451",
   "metadata": {
    "ExecuteTime": {
     "end_time": "2024-02-20T00:35:51.685703558Z",
     "start_time": "2024-02-20T00:35:51.377842467Z"
    }
   },
   "outputs": [
    {
     "name": "stdout",
     "output_type": "stream",
     "text": [
      "spacecraftpose.azurecr.io/spacecraft-pose-object-detection   latest    c18e7e415ad9   2 weeks ago   6.11GB\n"
     ]
    }
   ],
   "source": [
    "!docker images | grep spacecraft-pose-object-detection"
   ]
  },
  {
   "cell_type": "markdown",
   "id": "edf5aea2-cafd-4862-b1d9-e879761b6bb5",
   "metadata": {},
   "source": [
    "<a id=\"make-pack-benchmark\"></a>\n",
    "\n",
    "#### **`make pack-benchmark`** \n",
    "This command simply goes to your `example_benchmark` directory, zips the contents, and writes the zip archive to `submission/submission.zip`."
   ]
  },
  {
   "cell_type": "code",
   "execution_count": 17,
   "id": "4b5c8ed1-62ee-42a8-aa09-3c47e23d4699",
   "metadata": {
    "ExecuteTime": {
     "end_time": "2024-02-20T00:35:52.295546224Z",
     "start_time": "2024-02-20T00:35:51.689564773Z"
    }
   },
   "outputs": [
    {
     "name": "stdout",
     "output_type": "stream",
     "text": [
      "Makefile:78: *** You already have a submission/submission.zip file. Rename or remove that file (e.g., rm submission/submission.zip)..  Stop.\n"
     ]
    }
   ],
   "source": [
    "!cd {PROJ_DIRECTORY} && make pack-benchmark"
   ]
  },
  {
   "cell_type": "markdown",
   "id": "f6106a9a-82a1-4ff9-b518-51945f536e8b",
   "metadata": {},
   "source": [
    "> **Note:** The `make pack-benchmark` command will check to see if you already have a `submission/submission.zip` and error if you do, so as not to overwrite existing work. If you already have this file, you'll need to manually remove it before running the command."
   ]
  },
  {
   "cell_type": "markdown",
   "id": "0b0e463f-206e-4482-bc1a-0f102216d6fc",
   "metadata": {},
   "source": [
    "After running the above command, we should now have a new **`submission/submission.zip`**.\n",
    "```\n",
    "spacecraft-pose-object-detection-runtime/\n",
    "├── benchmark_src/\n",
    "│   ├── main.py\n",
    "│   ├── main.sh\n",
    "│   └── yolov8n.pt\n",
    "└── submission/\n",
    "    └── submission.zip   <---- new file, this is what gets submitted on platform\n",
    "```"
   ]
  },
  {
   "cell_type": "markdown",
   "id": "3d45552e-ba9a-4eea-80ea-3fb4c8476a63",
   "metadata": {},
   "source": [
    "This is the file that we will eventually upload to the competition platform for code execution. But before doing that, we want to test it locally."
   ]
  },
  {
   "cell_type": "markdown",
   "id": "a173b208-5120-4f16-9d12-5a22d3027ba2",
   "metadata": {},
   "source": [
    "<a id=\"make-test-submission\"></a>\n",
    "\n",
    "#### **`make test-submission`** \n",
    "This command simulates what happens during actual code execution, launching an instance of the official Docker image and running the same inference process that runs on the competition platform. The required host directories are mounted on the container, and the entrypoint script `main.sh` is executed. Note that when testing locally the contents of your local `data/` directory will be mounted on the container, whereas when your submission is running on our platform, the unseen test set will be mounted as `data/`."
   ]
  },
  {
   "cell_type": "code",
   "execution_count": 18,
   "id": "7a6baaf4-46dc-4230-a69c-ab444f64e443",
   "metadata": {
    "ExecuteTime": {
     "end_time": "2024-02-20T00:36:04.388579831Z",
     "start_time": "2024-02-20T00:35:52.299833801Z"
    }
   },
   "outputs": [
    {
     "name": "stdout",
     "output_type": "stream",
     "text": [
      "mkdir -p submission/\n",
      "chmod -R 0777 submission/\n",
      "docker run \\\n",
      "\t-it \\\n",
      "\t--network none \\\n",
      "\t--mount type=bind,source=\"/mnt/c/Python_work/spacecraft-pose-object-detection-runtime\"/data,target=/code_execution/data,readonly \\\n",
      "\t--mount type=bind,source=\"/mnt/c/Python_work/spacecraft-pose-object-detection-runtime\"/submission,target=/code_execution/submission \\\n",
      "\t--shm-size 8g \\\n",
      "\t--name spacecraft-pose-object-detection \\\n",
      "\t--rm \\\n",
      "\tc18e7e415ad9\n",
      "+ tee /code_execution/submission/log.txt\n",
      "+ main\n",
      "+ cd /code_execution\n",
      "+ curl --silent --connect-timeout 10 --max-time 12 www.example.com\n",
      "+ data_directory=/code_execution/data\n",
      "+ format_filename=/code_execution/data/submission_format.csv\n",
      "+ (( i=0 ))\n",
      "+ (( i<=5 ))\n",
      "+ t=0\n",
      "+ '[' -f /code_execution/data/submission_format.csv ']'\n",
      "+ echo 'found /code_execution/data/submission_format.csv after 0 seconds; data is mounted'\n",
      "found /code_execution/data/submission_format.csv after 0 seconds; data is mounted\n",
      "+ break\n",
      "+ '[' '!' -f /code_execution/data/submission_format.csv ']'\n",
      "+ expected_filename=main.sh\n",
      "++ zip -sf ./submission/submission.zip\n",
      "+ submission_files='Archive contains:\n",
      "  main.py\n",
      "  main.sh\n",
      "  yolov8n.pt\n",
      "Total 3 entries (6538213 bytes)'\n",
      "+ grep -q main.sh\n",
      "+ echo Unpacking submission\n",
      "Unpacking submission\n",
      "+ unzip ./submission/submission.zip -d ./workdir\n",
      "Archive:  ./submission/submission.zip\n",
      "  inflating: ./workdir/main.py       \n",
      "  inflating: ./workdir/main.sh       \n",
      "  inflating: ./workdir/yolov8n.pt    \n",
      "+ echo Printing submission contents\n",
      "Printing submission contents\n",
      "+ find workdir\n",
      "workdir\n",
      "workdir/yolov8n.pt\n",
      "workdir/main.sh\n",
      "workdir/main.py\n",
      "+ pushd workdir\n",
      "/code_execution/workdir /code_execution\n",
      "+ sh main.sh\n",
      "2024-04-14 07:12:46.892 | INFO     | __main__:main:57 - using data dir: /code_execution/data\n",
      "2024-04-14 07:12:47.070 | INFO     | __main__:main:76 -   0%|          | 0/100 [00:00<?, ?it/s]\n",
      "2024-04-14 07:12:50.785 | INFO     | __main__:main:76 -  10%|█         | 10/100 [00:03<00:33,  2.69it/s]\n",
      "2024-04-14 07:12:53.882 | INFO     | __main__:main:76 -  20%|██        | 20/100 [00:06<00:26,  2.98it/s]\n",
      "2024-04-14 07:12:58.809 | INFO     | __main__:main:76 -  30%|███       | 30/100 [00:11<00:28,  2.46it/s]\n",
      "2024-04-14 07:13:03.450 | INFO     | __main__:main:76 -  40%|████      | 40/100 [00:16<00:25,  2.33it/s]\n",
      "2024-04-14 07:13:07.483 | INFO     | __main__:main:76 -  50%|█████     | 50/100 [00:20<00:21,  2.38it/s]\n",
      "2024-04-14 07:13:10.891 | INFO     | __main__:main:76 -  60%|██████    | 60/100 [00:23<00:15,  2.54it/s]\n",
      "2024-04-14 07:13:14.646 | INFO     | __main__:main:76 -  70%|███████   | 70/100 [00:27<00:11,  2.58it/s]\n",
      "2024-04-14 07:13:16.829 | INFO     | __main__:main:76 -  80%|████████  | 80/100 [00:29<00:06,  3.00it/s]\n",
      "2024-04-14 07:13:19.193 | INFO     | __main__:main:76 -  90%|█████████ | 90/100 [00:32<00:03,  3.30it/s]\n",
      "+ popd\n",
      "/code_execution\n",
      "+ pytest --no-header -vv tests/test_submission.py\n",
      "============================= test session starts ==============================\n",
      "collecting ... collected 3 items\n",
      "\n",
      "tests/test_submission.py::test_submission_exists PASSED                  [ 33%]\n",
      "tests/test_submission.py::test_submission_matches_submission_format PASSED [ 66%]\n",
      "tests/test_submission.py::test_bounding_box_values_make_sense PASSED     [100%]\n",
      "\n",
      "============================== 3 passed in 0.49s ===============================\n",
      "+ exit_code=0\n",
      "+ cp /code_execution/submission/log.txt /tmp/log\n",
      "+ exit 0\n"
     ]
    }
   ],
   "source": [
    "!cd {PROJ_DIRECTORY} && make test-submission"
   ]
  },
  {
   "cell_type": "markdown",
   "id": "1601f5a99b889451",
   "metadata": {
    "collapsed": false,
    "jupyter": {
     "outputs_hidden": false
    }
   },
   "source": [
    "Once the test run has completed, we should now have a new file with our predictions at **`submission/submission.csv`**.\n",
    "```\n",
    "spacecraft-pose-object-detection-runtime/\n",
    "├── benchmark_src/\n",
    "│   ├── main.py\n",
    "│   ├── main.sh\n",
    "│   └── yolov8n.pt\n",
    "└── submission/\n",
    "    ├── submission.zip   <---- this is what gets submitted on platform\n",
    "    └── submission.csv   <---- new file, predictions on test set\n",
    "```\n",
    "We also provide a scoring script that computes your score using the same calculation that's used for the public leaderboard. You can generate a score for your local testing with a command like the one below. Remember that this score will be computed on your local test set, and your score on the public leaderboard will be based on an unseen test set.\n",
    "```\n",
    "python scripts/score.py submission/submission.csv data/test_labels.csv\n",
    "```"
   ]
  },
  {
   "cell_type": "code",
   "execution_count": 19,
   "id": "98f1d917-2fa0-4ea1-9ae7-2690adfc3604",
   "metadata": {},
   "outputs": [
    {
     "name": "stdout",
     "output_type": "stream",
     "text": [
      "/bin/bash: line 1: python: command not found\n"
     ]
    }
   ],
   "source": [
    "!python scripts/score.py submission/submission.csv data/test_labels.csv"
   ]
  },
  {
   "cell_type": "markdown",
   "id": "7825a7d6-d2ff-4741-af19-cc4332f688ee",
   "metadata": {},
   "source": [
    "### Submitting to the platform\n",
    "We're almost done. Assuming that our test run completed and the `submission.csv` looks correct, it's time to submit the code on the platform.\n",
    "\n",
    "* Go to the [competition submissions page](https://www.drivendata.org/competitions/260/spacecraft-detection/submissions/) and upload your `submission/submission.zip`.\n",
    "* Please be patient while your submission is uploaded and executed. Your job may be queued if other jobs are still pending.\n",
    "* You can track the status of your submission on the [Code Execution Status](https://www.drivendata.org/competitions/260/submissions/code/) page. Logs will become available once the submission begins processing. To see them click on \"View Log\".\n",
    "\n",
    "Once your submission has been successfully uploaded, you will see something like this on the [Code Execution Status](https://www.drivendata.org/competitions/260/submissions/code/) page:\n",
    "\n",
    "![code execution status](https://drivendata-public-assets.s3.amazonaws.com/spacecraft-benchmark-code-status.jpg)\n",
    "\n",
    "Please be patient while your code is running. You may want to follow the links to check the logs for your job, which are live updated as your code job progresses.\n",
    "\n",
    "Once your job has completed, head over to the [Submissions](https://www.drivendata.org/competitions/260/spacecraft-detection/submissions/) page where you should be able to see your score. It will look something like this, except that we're sure you can do better than the benchmark!\n",
    "\n",
    "![score](https://drivendata-public-assets.s3.amazonaws.com/spacecraft-benchmark-score.jpg)\n",
    "\n",
    "**That's it! You're on your way to creating your own code submission!**\n",
    "\n",
    "**Head over to the [competition](https://www.drivendata.org/competitions/260/spacecraft-detection/) homepage to get started. And have fun! We can't wait to see what you build!**"
   ]
  },
  {
   "cell_type": "markdown",
   "id": "b539e32c-7f87-456a-971c-b060210d046a",
   "metadata": {},
   "source": [
    "_Images courtesy of NASA._"
   ]
  }
 ],
 "metadata": {
  "kernelspec": {
   "display_name": "Python 3 (ipykernel)",
   "language": "python",
   "name": "python3"
  },
  "language_info": {
   "codemirror_mode": {
    "name": "ipython",
    "version": 3
   },
   "file_extension": ".py",
   "mimetype": "text/x-python",
   "name": "python",
   "nbconvert_exporter": "python",
   "pygments_lexer": "ipython3",
   "version": "3.10.12"
  }
 },
 "nbformat": 4,
 "nbformat_minor": 5
}
